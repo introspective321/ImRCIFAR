{
  "nbformat": 4,
  "nbformat_minor": 0,
  "metadata": {
    "colab": {
      "provenance": []
    },
    "kernelspec": {
      "name": "python3",
      "display_name": "Python 3"
    },
    "language_info": {
      "name": "python"
    }
  },
  "cells": [
    {
      "cell_type": "markdown",
      "source": [
        "The classifier is saved on google drive. The link for the same - https://drive.google.com/file/d/15__Gyfbs8uySfj74_cpTOYe2a-7N3dvT/view?usp=sharing. Mount google drive first, give correct paths of the classifer and test image and run the code to get the output. The link for the test images - https://drive.google.com/drive/folders/1yV7m1ihTQWoMWY1tqARhldoEudBp1iN2?usp=sharing"
      ],
      "metadata": {
        "id": "_6GQ_DOhC5vd"
      }
    },
    {
      "cell_type": "code",
      "source": [
        "from google.colab import drive\n",
        "drive.mount('/content/drive')"
      ],
      "metadata": {
        "id": "KgRzQAL2DSNk",
        "colab": {
          "base_uri": "https://localhost:8080/"
        },
        "outputId": "eeae9fa7-32a4-4547-e700-9f7f0f8f04e8"
      },
      "execution_count": 3,
      "outputs": [
        {
          "output_type": "stream",
          "name": "stdout",
          "text": [
            "Drive already mounted at /content/drive; to attempt to forcibly remount, call drive.mount(\"/content/drive\", force_remount=True).\n"
          ]
        }
      ]
    },
    {
      "cell_type": "code",
      "execution_count": 4,
      "metadata": {
        "colab": {
          "base_uri": "https://localhost:8080/"
        },
        "id": "ecIJxZgK6XX2",
        "outputId": "b6c41296-e0d6-4dcc-9ce9-6ec9447d7763"
      },
      "outputs": [
        {
          "output_type": "stream",
          "name": "stdout",
          "text": [
            "Automobile\n"
          ]
        }
      ],
      "source": [
        "import numpy as np\n",
        "import pickle\n",
        "import cv2\n",
        "from skimage.feature import hog\n",
        "from skimage import color\n",
        "import warnings\n",
        "import os\n",
        "\n",
        "warnings.filterwarnings(\"ignore\")\n",
        "\n",
        "# loading the classifier.. give the correct path of the classifier file\n",
        "with open('/content/drive/MyDrive/svm_classifier.pkl', 'rb') as f:\n",
        "    clf = pickle.load(f)\n",
        "\n",
        "# path of image to be tested\n",
        "image_path = '/content/drive/MyDrive/test-images/car.png'\n",
        "\n",
        "if os.path.exists(image_path):\n",
        "    uploaded_image = cv2.imread(image_path, cv2.IMREAD_COLOR)\n",
        "else:\n",
        "    print(\"The image file does not exist.\")\n",
        "    exit()\n",
        "\n",
        "# grayscaling and resizing\n",
        "gray_image = color.rgb2gray(uploaded_image)\n",
        "resized_image = cv2.resize(gray_image, (32, 32))\n",
        "\n",
        "# normalization\n",
        "preprocessed_image = resized_image.astype('float32') / 255.0\n",
        "\n",
        "# HoG features\n",
        "hog_features = hog(preprocessed_image, orientations=9, pixels_per_cell=(8, 8),\n",
        "                   cells_per_block=(2, 2), block_norm='L2-Hys')\n",
        "\n",
        "hog_features = hog_features.reshape(1, -1)\n",
        "predicted_label = clf.predict(hog_features)\n",
        "\n",
        "class_names = {\n",
        "    0: \"Airplane\", 1: \"Automobile\", 2: \"Bird\", 3: \"Cat\", 4: \"Deer\",\n",
        "    5: \"Dog\", 6: \"Frog\", 7: \"Horse\", 8: \"Ship\", 9: \"Truck\"\n",
        "}\n",
        "\n",
        "# output label\n",
        "print(class_names[predicted_label[0]])\n"
      ]
    }
  ]
}