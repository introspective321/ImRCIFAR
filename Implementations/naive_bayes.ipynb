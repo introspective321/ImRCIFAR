{
 "cells": [
  {
   "cell_type": "code",
   "execution_count": 1,
   "metadata": {},
   "outputs": [],
   "source": [
    "import pandas as pd\n",
    "import numpy as np"
   ]
  },
  {
   "cell_type": "code",
   "execution_count": null,
   "metadata": {},
   "outputs": [],
   "source": [
    "data = np.load('../assets/arrays.npz')\n",
    "\n",
    "# Accessing the arrays\n",
    "X_test_pca = data['X_test_pca']\n",
    "X_train_pca = data['X_train_pca']\n",
    "y_training = data['y_training']\n",
    "y_testing = data['y_testing']"
   ]
  },
  {
   "cell_type": "markdown",
   "metadata": {},
   "source": [
    "# **Naive Bayes Classifier**\n",
    "There are 10 classes and 130 features in pca reduced dataset. This accounts to more than 1300 prior probabilities. Hence, implementing this algorithm manually from scratch is cumbersome. All three Naive Bayes classifier types(Gaussian, Multinomial, Bernoulli) are implemented in the cells below using Sklearn."
   ]
  },
  {
   "cell_type": "code",
   "execution_count": 5,
   "metadata": {},
   "outputs": [
    {
     "ename": "AttributeError",
     "evalue": "'NoneType' object has no attribute 'shape'",
     "output_type": "error",
     "traceback": [
      "\u001b[0;31m---------------------------------------------------------------------------\u001b[0m",
      "\u001b[0;31mAttributeError\u001b[0m                            Traceback (most recent call last)",
      "Cell \u001b[0;32mIn[5], line 2\u001b[0m\n\u001b[1;32m      1\u001b[0m \u001b[38;5;28;01mfrom\u001b[39;00m \u001b[38;5;21;01msklearn\u001b[39;00m\u001b[38;5;21;01m.\u001b[39;00m\u001b[38;5;21;01mnaive_bayes\u001b[39;00m \u001b[38;5;28;01mimport\u001b[39;00m GaussianNB, MultinomialNB, BernoulliNB\n\u001b[0;32m----> 2\u001b[0m \u001b[38;5;28mprint\u001b[39m(\u001b[43mX_train_pca\u001b[49m\u001b[38;5;241;43m.\u001b[39;49m\u001b[43mshape\u001b[49m)\n\u001b[1;32m      3\u001b[0m \u001b[38;5;28mprint\u001b[39m(X_test_pca\u001b[38;5;241m.\u001b[39mshape)\n",
      "\u001b[0;31mAttributeError\u001b[0m: 'NoneType' object has no attribute 'shape'"
     ]
    }
   ],
   "source": [
    "from sklearn.naive_bayes import GaussianNB, MultinomialNB, BernoulliNB\n",
    "print(X_train_pca.shape)\n",
    "print(X_test_pca.shape)"
   ]
  },
  {
   "cell_type": "code",
   "execution_count": null,
   "metadata": {},
   "outputs": [],
   "source": [
    "# initializing the classifiers\n",
    "clf1 = GaussianNB()\n",
    "clf2 = MultinomialNB()\n",
    "clf3 = BernoulliNB()\n",
    "from sklearn.metrics import accuracy_score\n",
    "import time"
   ]
  },
  {
   "cell_type": "code",
   "execution_count": null,
   "metadata": {},
   "outputs": [],
   "source": [
    "# Implementing Gaussian Naive Bayes Classifier\n",
    "try:\n",
    "  start = time.time()\n",
    "  clf1.fit(X_train_pca,y_training)\n",
    "  end = time.time()\n",
    "  print(f'time taken : {end - start}')\n",
    "\n",
    "  y_pred1 = clf1.predict(X_test_pca)\n",
    "  print(y_pred1.shape)\n",
    "  print(accuracy_score(y_testing,y_pred1))\n",
    "\n",
    "except Exception as e:\n",
    "  print(f'Some error occurred : {e}')\n"
   ]
  },
  {
   "cell_type": "code",
   "execution_count": null,
   "metadata": {},
   "outputs": [],
   "source": [
    "# Implementing Multinomial Naive Bayes Classifier\n",
    "\n",
    "try:\n",
    "  start = time.time()\n",
    "  clf2.fit(X_train_pca,y_training)\n",
    "  end = time.time()\n",
    "  print(f'time taken : {end - start}')\n",
    "\n",
    "  y_pred2 = clf2.predict(X_test_pca)\n",
    "  print(y_pred2.shape)\n",
    "  print(accuracy_score(y_testing,y_pred2))\n",
    "\n",
    "except Exception as e:\n",
    "  print(f'Some error occurred : {e}')"
   ]
  },
  {
   "cell_type": "code",
   "execution_count": null,
   "metadata": {},
   "outputs": [],
   "source": [
    "negatives = (X_train_pca < 0).sum().sum()\n",
    "\n",
    "print(f\"Total count of negative values : {negatives} Percentage : {(negatives / (50000*130))*100}\")"
   ]
  },
  {
   "cell_type": "markdown",
   "metadata": {},
   "source": [
    "Since a high fraction of values are negative, manipulating this dataset to handle negative values is not a good deal."
   ]
  },
  {
   "cell_type": "code",
   "execution_count": null,
   "metadata": {},
   "outputs": [],
   "source": [
    "# Implementing Bernoulli Naive Bayes Classifier\n",
    "\n",
    "try:\n",
    "  start = time.time()\n",
    "  clf3.fit(X_train_pca,y_training)\n",
    "  end = time.time()\n",
    "  print(f'time taken : {end - start}')\n",
    "\n",
    "  y_pred3 = clf3.predict(X_test_pca)\n",
    "  print(y_pred3.shape)\n",
    "  print(accuracy_score(y_testing,y_pred3))\n",
    "\n",
    "except Exception as e:\n",
    "  print(f'Some error occurred : {e}')"
   ]
  },
  {
   "cell_type": "markdown",
   "metadata": {},
   "source": [
    "# **Verdict on Naive Bayes**\n",
    "\n",
    "Given that the dataset is so feature and classes enriched, Multinomial NB could be an appropriate classifier but it does not take negative values which has resulted into an error as stated above. Moreover, there are 10 classes while Bernoulli is used for binary classification. Hence, Naive Bayes is not an ideal classifier for this dataset."
   ]
  }
 ],
 "metadata": {
  "kernelspec": {
   "display_name": "Python 3",
   "language": "python",
   "name": "python3"
  },
  "language_info": {
   "codemirror_mode": {
    "name": "ipython",
    "version": 3
   },
   "file_extension": ".py",
   "mimetype": "text/x-python",
   "name": "python",
   "nbconvert_exporter": "python",
   "pygments_lexer": "ipython3",
   "version": "3.10.12"
  }
 },
 "nbformat": 4,
 "nbformat_minor": 2
}
