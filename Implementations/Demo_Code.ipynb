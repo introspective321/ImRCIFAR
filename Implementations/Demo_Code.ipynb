{
  "nbformat": 4,
  "nbformat_minor": 0,
  "metadata": {
    "colab": {
      "provenance": []
    },
    "kernelspec": {
      "name": "python3",
      "display_name": "Python 3"
    },
    "language_info": {
      "name": "python"
    }
  },
  "cells": [
    {
      "cell_type": "code",
      "execution_count": 1,
      "metadata": {
        "colab": {
          "base_uri": "https://localhost:8080/"
        },
        "id": "ecIJxZgK6XX2",
        "outputId": "09a35d76-1e50-40f7-d105-926997784bb0"
      },
      "outputs": [
        {
          "output_type": "stream",
          "name": "stdout",
          "text": [
            "Cat\n"
          ]
        }
      ],
      "source": [
        "import numpy as np\n",
        "import pickle\n",
        "import cv2\n",
        "from skimage.feature import hog\n",
        "from skimage import color\n",
        "import warnings\n",
        "import os\n",
        "\n",
        "warnings.filterwarnings(\"ignore\")\n",
        "\n",
        "# loading the classifier\n",
        "with open('svm_classifier.pkl', 'rb') as f:\n",
        "    clf = pickle.load(f)\n",
        "\n",
        "# path of image to be tested\n",
        "image_path = '/content/cat.jpg'\n",
        "\n",
        "if os.path.exists(image_path):\n",
        "    uploaded_image = cv2.imread(image_path, cv2.IMREAD_COLOR)\n",
        "else:\n",
        "    print(\"The image file does not exist.\")\n",
        "    exit()\n",
        "\n",
        "# grayscaling and resizing\n",
        "gray_image = color.rgb2gray(uploaded_image)\n",
        "resized_image = cv2.resize(gray_image, (32, 32))\n",
        "\n",
        "# normalization\n",
        "preprocessed_image = resized_image.astype('float32') / 255.0\n",
        "\n",
        "# HoG features\n",
        "hog_features = hog(preprocessed_image, orientations=9, pixels_per_cell=(8, 8),\n",
        "                   cells_per_block=(2, 2), block_norm='L2-Hys')\n",
        "\n",
        "hog_features = hog_features.reshape(1, -1)\n",
        "predicted_label = clf.predict(hog_features)\n",
        "\n",
        "class_names = {\n",
        "    0: \"Airplane\", 1: \"Automobile\", 2: \"Bird\", 3: \"Cat\", 4: \"Deer\",\n",
        "    5: \"Dog\", 6: \"Frog\", 7: \"Horse\", 8: \"Ship\", 9: \"Truck\"\n",
        "}\n",
        "\n",
        "# output label\n",
        "print(class_names[predicted_label[0]])\n"
      ]
    }
  ]
}